{
 "cells": [
  {
   "cell_type": "code",
   "execution_count": null,
   "metadata": {},
   "outputs": [],
   "source": [
    "import pandas as pd"
   ]
  },
  {
   "cell_type": "code",
   "execution_count": null,
   "metadata": {},
   "outputs": [],
   "source": [
    "data = pd.read_excel('crop_csv_file.xlsx')"
   ]
  },
  {
   "cell_type": "code",
   "execution_count": null,
   "metadata": {},
   "outputs": [],
   "source": [
    "data.head()"
   ]
  },
  {
   "cell_type": "code",
   "execution_count": null,
   "metadata": {},
   "outputs": [],
   "source": [
    "data.head()\n",
    "data = data[:10000]"
   ]
  },
  {
   "cell_type": "code",
   "execution_count": null,
   "metadata": {},
   "outputs": [],
   "source": [
    "data.head()"
   ]
  },
  {
   "cell_type": "code",
   "execution_count": null,
   "metadata": {},
   "outputs": [],
   "source": [
    "data.info()"
   ]
  },
  {
   "cell_type": "code",
   "execution_count": null,
   "metadata": {},
   "outputs": [],
   "source": [
    "#handling missing data\n",
    "data = data.dropna()\n",
    "data.info()"
   ]
  },
  {
   "cell_type": "code",
   "execution_count": null,
   "metadata": {},
   "outputs": [],
   "source": [
    "data.describe()"
   ]
  },
  {
   "cell_type": "code",
   "execution_count": null,
   "metadata": {},
   "outputs": [],
   "source": [
    "from sklearn.preprocessing import LabelEncoder\n",
    "le = LabelEncoder()\n",
    "\n",
    "State_Name = le.fit_transform(data.State_Name)\n",
    "District_Name = le.fit_transform(data.District_Name)\n",
    "Crop_Year = le.fit_transform(data.Crop_Year)\n",
    "crop = le.fit_transform(data.Crop)\n",
    "Season = le.fit_transform(data.Season)\n",
    "data['State_Name'] = State_Name\n",
    "data['District_Name'] = District_Name\n",
    "data['Crop_Year'] = Crop_Year\n",
    "data['Crop'] = crop\n",
    "data['Season']  = Season"
   ]
  },
  {
   "cell_type": "code",
   "execution_count": null,
   "metadata": {},
   "outputs": [],
   "source": [
    "data.head()"
   ]
  },
  {
   "cell_type": "code",
   "execution_count": null,
   "metadata": {},
   "outputs": [],
   "source": [
    "from sklearn.model_selection import train_test_split\n",
    "#from sklearn.cross_validation import train_test_split"
   ]
  },
  {
   "cell_type": "code",
   "execution_count": null,
   "metadata": {},
   "outputs": [],
   "source": [
    "X = data.iloc[:,:-1]\n",
    "y = data.iloc[:,-1]"
   ]
  },
  {
   "cell_type": "code",
   "execution_count": null,
   "metadata": {},
   "outputs": [],
   "source": [
    "X_train,X_test,Y_train,Y_test = train_test_split(X,y,test_size=0.2,random_state=100)"
   ]
  },
  {
   "cell_type": "code",
   "execution_count": null,
   "metadata": {
    "scrolled": true
   },
   "outputs": [],
   "source": [
    "from sklearn.ensemble import RandomForestRegressor\n",
    "from sklearn.metrics import roc_auc_score , classification_report, mean_squared_error, r2_score\n",
    "forest = RandomForestRegressor(n_estimators=1000, \n",
    "                               criterion='mse', \n",
    "                               random_state=1, \n",
    "                               n_jobs=-1)\n",
    "forest.fit(X_train, Y_train)\n",
    "y_train_pred = forest.predict(X_train)\n",
    "y_test_pred = forest.predict(X_test)\n",
    "\n",
    "print('MSE train: %.3f, test: %.3f' % (\n",
    "        mean_squared_error(Y_train, y_train_pred),\n",
    "        mean_squared_error(Y_test, y_test_pred)))\n",
    "print('R^2 train: %.3f, test: %.3f' % (\n",
    "        r2_score(Y_train, y_train_pred),\n",
    "        r2_score(Y_test, y_test_pred)))\n",
    "\n"
   ]
  },
  {
   "cell_type": "code",
   "execution_count": null,
   "metadata": {},
   "outputs": [],
   "source": [
    "print(forest.score(X_test,Y_test))"
   ]
  },
  {
   "cell_type": "code",
   "execution_count": null,
   "metadata": {},
   "outputs": [],
   "source": [
    "forest.predict(X_test)"
   ]
  },
  {
   "cell_type": "code",
   "execution_count": null,
   "metadata": {},
   "outputs": [],
   "source": [
    "X_test"
   ]
  },
  {
   "cell_type": "code",
   "execution_count": null,
   "metadata": {},
   "outputs": [],
   "source": [
    "forest.predict([[1,5,5,3,40,37,40,46,1359.0]])"
   ]
  },
  {
   "cell_type": "code",
   "execution_count": null,
   "metadata": {},
   "outputs": [],
   "source": [
    "state = input('enter state:')\n",
    "district = input('enter district:')\n",
    "year = input('enter year:')\n",
    "season = input('enter season:')\n",
    "crop = input('enter crop:')\n",
    "Temperature = input('enter Temperature')\n",
    "humidity= input('enter humidity')\n",
    "soilmoisture= input('enter soilmoisture')\n",
    "area = input('enter area')\n",
    "\n",
    "out_1 = forest.predict([[float(state),\n",
    "       float(district),\n",
    "       float(year),\n",
    "       float(season),\n",
    "       float(crop),\n",
    "       float(Temperature),\n",
    "       float(humidity),\n",
    "       float(soilmoisture),\n",
    "       float(area)]])\n",
    "print(out_1)\n",
    "print('crop yield Production:',out_1)\n"
   ]
  },
  {
   "cell_type": "markdown",
   "metadata": {},
   "source": [
    "# Fertilizer prediction"
   ]
  },
  {
   "cell_type": "code",
   "execution_count": null,
   "metadata": {},
   "outputs": [],
   "source": [
    "data_1 = pd.read_csv('ferlizer.csv')"
   ]
  },
  {
   "cell_type": "code",
   "execution_count": null,
   "metadata": {},
   "outputs": [],
   "source": [
    "data_1"
   ]
  },
  {
   "cell_type": "code",
   "execution_count": null,
   "metadata": {},
   "outputs": [],
   "source": [
    "n = data_1.iloc[:,0:1]\n",
    "p = data_1.iloc[:,1:2]\n",
    "k = data_1.iloc[:,2:3]\n",
    "amt_n = data_1.iloc[:,3:4]\n",
    "amt_p = data_1.iloc[:,4:5]\n",
    "amt_k = data_1.iloc[:,5:6]"
   ]
  },
  {
   "cell_type": "code",
   "execution_count": null,
   "metadata": {},
   "outputs": [],
   "source": [
    "X_n_train , X_n_test , y_n_train , y_n_test = train_test_split(n,amt_n,test_size=0.2,random_state=100)"
   ]
  },
  {
   "cell_type": "code",
   "execution_count": null,
   "metadata": {},
   "outputs": [],
   "source": [
    "X_p_train , X_p_test , y_p_train , y_p_test = train_test_split(p,amt_p,test_size=0.2,random_state=100)"
   ]
  },
  {
   "cell_type": "code",
   "execution_count": null,
   "metadata": {},
   "outputs": [],
   "source": [
    "X_k_train , X_k_test , y_k_train , y_k_test = train_test_split(k,amt_k,test_size=0.2,random_state=100)"
   ]
  },
  {
   "cell_type": "code",
   "execution_count": null,
   "metadata": {},
   "outputs": [],
   "source": [
    "from sklearn.neural_network import MLPRegressor\n",
    "clf_n = MLPRegressor(solver='lbfgs', alpha=1e-5,hidden_layer_sizes=(5, 2), random_state=1)\n",
    "clf_n.fit(X_n_train, y_n_train)\n",
    "y_n_pred = clf_n.predict(y_n_test)\n",
    "clf_n.score(y_n_test,y_n_pred)"
   ]
  },
  {
   "cell_type": "code",
   "execution_count": null,
   "metadata": {},
   "outputs": [],
   "source": [
    "clf_p = MLPRegressor(solver='lbfgs', alpha=1e-5,hidden_layer_sizes=(5, 2), random_state=1)\n",
    "clf_p.fit(X_p_train, y_p_train)\n",
    "y_p_pred = clf_n.predict(y_p_test)\n",
    "clf_p.score(y_p_test,y_p_pred)"
   ]
  },
  {
   "cell_type": "code",
   "execution_count": null,
   "metadata": {},
   "outputs": [],
   "source": [
    "clf_k = MLPRegressor(solver='lbfgs', alpha=1e-5,hidden_layer_sizes=(5, 2), random_state=1)\n",
    "clf_k.fit(X_p_train, y_k_train)\n",
    "y_k_pred = clf_n.predict(y_k_test)\n",
    "clf_k.score(y_k_test,y_k_pred)"
   ]
  },
  {
   "cell_type": "code",
   "execution_count": null,
   "metadata": {},
   "outputs": [],
   "source": [
    "n_i = float(input('enter nitrogen:'))\n",
    "p_i = float(input('enter posporus:'))\n",
    "k_i = float(input('enter pottasium:'))\n",
    "p_n = clf_n.predict([[n_i]])\n",
    "p_p = clf_p.predict([[p_i]])\n",
    "p_k = clf_k.predict([[k_i]])\n",
    "print('Amount of nitrogen Fertizer:',p_n)\n",
    "print('Amount of posporus Fertizer:',p_p)\n",
    "print('Amount of nitrogen Fertizer:',p_k)"
   ]
  },
  {
   "cell_type": "markdown",
   "metadata": {},
   "source": [
    "# GUI"
   ]
  },
  {
   "cell_type": "code",
   "execution_count": null,
   "metadata": {},
   "outputs": [],
   "source": [
    "from tkinter import *\n",
    "from tkinter import ttk\n",
    "\n",
    "root = Tk()\n",
    "root.title('Crop Yield and fertilizer Prediction System')\n",
    "root.geometry('850x650')\n",
    "root.configure(background=\"purple2\")\n",
    "var = StringVar()\n",
    "label = Label( root, textvariable = var,font=('arial',20,'bold'),bd=20,background=\"purple2\")\n",
    "var.set('Crop Yield and fertilizer Prediction System')\n",
    "label.grid(row=0,columnspan=6)\n",
    "\n",
    "\n",
    "\n",
    "label_1 = ttk.Label(root, text ='state',font=(\"Helvetica\", 16),background=\"Purple3\")\n",
    "label_1.grid(row=11,column=0)\n",
    "    \n",
    "Entry_1= Entry(root)\n",
    "Entry_1.grid(row=11,column=1)\n",
    "\n",
    "label_2 = ttk.Label(root, text ='district',font=(\"Helvetica\", 16),background=\"Purple3\")\n",
    "label_2.grid(row=12,column=0)\n",
    "    \n",
    "Entry_2 = Entry(root)\n",
    "Entry_2.grid(row=12,column=1)\n",
    "    \n",
    "    \n",
    "label_3 = ttk.Label(root, text ='year',font=(\"Helvetica\", 16),background=\"Purple3\")\n",
    "label_3.grid(row=13,column=0)\n",
    "    \n",
    "Entry_3 = Entry(root)\n",
    "Entry_3.grid(row=13,column=1)\n",
    "\n",
    "label_4 = ttk.Label(root, text ='season',font=(\"Helvetica\", 16),background=\"Purple3\")\n",
    "label_4.grid(row=14,column=0)\n",
    "    \n",
    "Entry_4= Entry(root)\n",
    "Entry_4.grid(row=14,column=1)\n",
    "\n",
    "label_5 = ttk.Label(root, text ='crop',font=(\"Helvetica\", 16),background=\"Purple3\")\n",
    "label_5.grid(row=15,column=0)\n",
    "    \n",
    "Entry_6 = Entry(root)\n",
    "Entry_6.grid(row=15,column=1)\n",
    "    \n",
    "    \n",
    "label_6 = ttk.Label(root, text ='Temperature',font=(\"Helvetica\", 16),background=\"Purple3\")\n",
    "label_6.grid(row=16,column=0)\n",
    "    \n",
    "Entry_6 = Entry(root)\n",
    "Entry_6.grid(row=16,column=1)\n",
    "\n",
    "label_7 = ttk.Label(root, text ='humidity',font=(\"Helvetica\", 16),background=\"Purple3\")\n",
    "label_7.grid(row=17,column=0)\n",
    "    \n",
    "Entry_7= Entry(root)\n",
    "Entry_7.grid(row=17,column=1)\n",
    "\n",
    "label_8 = ttk.Label(root, text ='soilmoisture',font=(\"Helvetica\", 16),background=\"Purple3\")\n",
    "label_8.grid(row=18,column=0)\n",
    "\n",
    "Entry_8 = Entry(root)\n",
    "Entry_8.grid(row=18,column=1)\n",
    "    \n",
    "    \n",
    "label_9 = ttk.Label(root, text ='area',font=(\"Helvetica\", 16),background=\"Purple3\")\n",
    "label_9.grid(row=19,column=0)\n",
    "    \n",
    "Entry_9 = Entry(root)\n",
    "Entry_9.grid(row=19,column=1)\n",
    "\n",
    "\n",
    "def predict():\n",
    "    state = Entry_1.get()\n",
    "    district = Entry_2.get()\n",
    "    year = Entry_3.get()\n",
    "    season = Entry_4.get()\n",
    "    crop = Entry_5.get()\n",
    "    Temperature = Entry_6.get()\n",
    "    humidity = Entry_7.get()\n",
    "    soilmoisture = Entry_8.get()\n",
    "    area = Entry_9.get()\n",
    "    out = forest.predict([[float(state),\n",
    "       float(district),\n",
    "       float(year),\n",
    "       float(season),\n",
    "       float(crop),\n",
    "       float(Temperature),\n",
    "       float(humidity),\n",
    "       float(soilmoisture),\n",
    "       float(area)]])\n",
    "    \n",
    "    output.delete(0,END)\n",
    "    output.insert(0,out)\n",
    "   \n",
    "        \n",
    "\n",
    "b1 = Button(root, text = 'predict',font=(\"Helvetica\", 16),background=\"Purple3\",command = predict)\n",
    "b1.grid(row=14,column=0)\n",
    "    \n",
    "\n",
    "output = Entry(root)\n",
    "output.grid(row=20,column=1)\n",
    "    \n",
    "root.mainloop()"
   ]
  },
  {
   "cell_type": "code",
   "execution_count": null,
   "metadata": {},
   "outputs": [],
   "source": []
  },
  {
   "cell_type": "code",
   "execution_count": null,
   "metadata": {},
   "outputs": [],
   "source": []
  }
 ],
 "metadata": {
  "kernelspec": {
   "display_name": "Python 3 (ipykernel)",
   "language": "python",
   "name": "python3"
  },
  "language_info": {
   "codemirror_mode": {
    "name": "ipython",
    "version": 3
   },
   "file_extension": ".py",
   "mimetype": "text/x-python",
   "name": "python",
   "nbconvert_exporter": "python",
   "pygments_lexer": "ipython3",
   "version": "3.10.1"
  }
 },
 "nbformat": 4,
 "nbformat_minor": 1
}
